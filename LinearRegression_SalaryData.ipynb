{
 "cells": [
  {
   "cell_type": "markdown",
   "id": "622e25e8",
   "metadata": {},
   "source": [
    "$Step-1$:\n",
    "    \n",
    "**Import required packages**"
   ]
  },
  {
   "cell_type": "code",
   "execution_count": 2,
   "id": "5b6ce182",
   "metadata": {},
   "outputs": [],
   "source": [
    "import numpy as np\n",
    "import pandas as pd\n",
    "import matplotlib.pyplot as plt\n",
    "import seaborn as sns\n",
    "import warnings\n",
    "warnings.filterwarnings('ignore')"
   ]
  },
  {
   "cell_type": "markdown",
   "id": "f189ff0a",
   "metadata": {},
   "source": [
    "$Step-2$\n",
    "\n",
    "**Read the data**"
   ]
  },
  {
   "cell_type": "code",
   "execution_count": 4,
   "id": "d310a4ce",
   "metadata": {},
   "outputs": [
    {
     "ename": "FileNotFoundError",
     "evalue": "[Errno 2] No such file or directory: 'Salary_Data.csv'",
     "output_type": "error",
     "traceback": [
      "\u001b[1;31m---------------------------------------------------------------------------\u001b[0m",
      "\u001b[1;31mFileNotFoundError\u001b[0m                         Traceback (most recent call last)",
      "Cell \u001b[1;32mIn[4], line 2\u001b[0m\n\u001b[0;32m      1\u001b[0m \u001b[38;5;66;03m# read the dataset \u001b[39;00m\n\u001b[1;32m----> 2\u001b[0m df \u001b[38;5;241m=\u001b[39m pd\u001b[38;5;241m.\u001b[39mread_csv(\u001b[38;5;124m\"\u001b[39m\u001b[38;5;124mSalary_Data.csv\u001b[39m\u001b[38;5;124m\"\u001b[39m)\n\u001b[0;32m      3\u001b[0m df\u001b[38;5;241m.\u001b[39mhead()\n",
      "File \u001b[1;32m~\\anaconda3\\Lib\\site-packages\\pandas\\io\\parsers\\readers.py:1026\u001b[0m, in \u001b[0;36mread_csv\u001b[1;34m(filepath_or_buffer, sep, delimiter, header, names, index_col, usecols, dtype, engine, converters, true_values, false_values, skipinitialspace, skiprows, skipfooter, nrows, na_values, keep_default_na, na_filter, verbose, skip_blank_lines, parse_dates, infer_datetime_format, keep_date_col, date_parser, date_format, dayfirst, cache_dates, iterator, chunksize, compression, thousands, decimal, lineterminator, quotechar, quoting, doublequote, escapechar, comment, encoding, encoding_errors, dialect, on_bad_lines, delim_whitespace, low_memory, memory_map, float_precision, storage_options, dtype_backend)\u001b[0m\n\u001b[0;32m   1013\u001b[0m kwds_defaults \u001b[38;5;241m=\u001b[39m _refine_defaults_read(\n\u001b[0;32m   1014\u001b[0m     dialect,\n\u001b[0;32m   1015\u001b[0m     delimiter,\n\u001b[1;32m   (...)\u001b[0m\n\u001b[0;32m   1022\u001b[0m     dtype_backend\u001b[38;5;241m=\u001b[39mdtype_backend,\n\u001b[0;32m   1023\u001b[0m )\n\u001b[0;32m   1024\u001b[0m kwds\u001b[38;5;241m.\u001b[39mupdate(kwds_defaults)\n\u001b[1;32m-> 1026\u001b[0m \u001b[38;5;28;01mreturn\u001b[39;00m _read(filepath_or_buffer, kwds)\n",
      "File \u001b[1;32m~\\anaconda3\\Lib\\site-packages\\pandas\\io\\parsers\\readers.py:620\u001b[0m, in \u001b[0;36m_read\u001b[1;34m(filepath_or_buffer, kwds)\u001b[0m\n\u001b[0;32m    617\u001b[0m _validate_names(kwds\u001b[38;5;241m.\u001b[39mget(\u001b[38;5;124m\"\u001b[39m\u001b[38;5;124mnames\u001b[39m\u001b[38;5;124m\"\u001b[39m, \u001b[38;5;28;01mNone\u001b[39;00m))\n\u001b[0;32m    619\u001b[0m \u001b[38;5;66;03m# Create the parser.\u001b[39;00m\n\u001b[1;32m--> 620\u001b[0m parser \u001b[38;5;241m=\u001b[39m TextFileReader(filepath_or_buffer, \u001b[38;5;241m*\u001b[39m\u001b[38;5;241m*\u001b[39mkwds)\n\u001b[0;32m    622\u001b[0m \u001b[38;5;28;01mif\u001b[39;00m chunksize \u001b[38;5;129;01mor\u001b[39;00m iterator:\n\u001b[0;32m    623\u001b[0m     \u001b[38;5;28;01mreturn\u001b[39;00m parser\n",
      "File \u001b[1;32m~\\anaconda3\\Lib\\site-packages\\pandas\\io\\parsers\\readers.py:1620\u001b[0m, in \u001b[0;36mTextFileReader.__init__\u001b[1;34m(self, f, engine, **kwds)\u001b[0m\n\u001b[0;32m   1617\u001b[0m     \u001b[38;5;28mself\u001b[39m\u001b[38;5;241m.\u001b[39moptions[\u001b[38;5;124m\"\u001b[39m\u001b[38;5;124mhas_index_names\u001b[39m\u001b[38;5;124m\"\u001b[39m] \u001b[38;5;241m=\u001b[39m kwds[\u001b[38;5;124m\"\u001b[39m\u001b[38;5;124mhas_index_names\u001b[39m\u001b[38;5;124m\"\u001b[39m]\n\u001b[0;32m   1619\u001b[0m \u001b[38;5;28mself\u001b[39m\u001b[38;5;241m.\u001b[39mhandles: IOHandles \u001b[38;5;241m|\u001b[39m \u001b[38;5;28;01mNone\u001b[39;00m \u001b[38;5;241m=\u001b[39m \u001b[38;5;28;01mNone\u001b[39;00m\n\u001b[1;32m-> 1620\u001b[0m \u001b[38;5;28mself\u001b[39m\u001b[38;5;241m.\u001b[39m_engine \u001b[38;5;241m=\u001b[39m \u001b[38;5;28mself\u001b[39m\u001b[38;5;241m.\u001b[39m_make_engine(f, \u001b[38;5;28mself\u001b[39m\u001b[38;5;241m.\u001b[39mengine)\n",
      "File \u001b[1;32m~\\anaconda3\\Lib\\site-packages\\pandas\\io\\parsers\\readers.py:1880\u001b[0m, in \u001b[0;36mTextFileReader._make_engine\u001b[1;34m(self, f, engine)\u001b[0m\n\u001b[0;32m   1878\u001b[0m     \u001b[38;5;28;01mif\u001b[39;00m \u001b[38;5;124m\"\u001b[39m\u001b[38;5;124mb\u001b[39m\u001b[38;5;124m\"\u001b[39m \u001b[38;5;129;01mnot\u001b[39;00m \u001b[38;5;129;01min\u001b[39;00m mode:\n\u001b[0;32m   1879\u001b[0m         mode \u001b[38;5;241m+\u001b[39m\u001b[38;5;241m=\u001b[39m \u001b[38;5;124m\"\u001b[39m\u001b[38;5;124mb\u001b[39m\u001b[38;5;124m\"\u001b[39m\n\u001b[1;32m-> 1880\u001b[0m \u001b[38;5;28mself\u001b[39m\u001b[38;5;241m.\u001b[39mhandles \u001b[38;5;241m=\u001b[39m get_handle(\n\u001b[0;32m   1881\u001b[0m     f,\n\u001b[0;32m   1882\u001b[0m     mode,\n\u001b[0;32m   1883\u001b[0m     encoding\u001b[38;5;241m=\u001b[39m\u001b[38;5;28mself\u001b[39m\u001b[38;5;241m.\u001b[39moptions\u001b[38;5;241m.\u001b[39mget(\u001b[38;5;124m\"\u001b[39m\u001b[38;5;124mencoding\u001b[39m\u001b[38;5;124m\"\u001b[39m, \u001b[38;5;28;01mNone\u001b[39;00m),\n\u001b[0;32m   1884\u001b[0m     compression\u001b[38;5;241m=\u001b[39m\u001b[38;5;28mself\u001b[39m\u001b[38;5;241m.\u001b[39moptions\u001b[38;5;241m.\u001b[39mget(\u001b[38;5;124m\"\u001b[39m\u001b[38;5;124mcompression\u001b[39m\u001b[38;5;124m\"\u001b[39m, \u001b[38;5;28;01mNone\u001b[39;00m),\n\u001b[0;32m   1885\u001b[0m     memory_map\u001b[38;5;241m=\u001b[39m\u001b[38;5;28mself\u001b[39m\u001b[38;5;241m.\u001b[39moptions\u001b[38;5;241m.\u001b[39mget(\u001b[38;5;124m\"\u001b[39m\u001b[38;5;124mmemory_map\u001b[39m\u001b[38;5;124m\"\u001b[39m, \u001b[38;5;28;01mFalse\u001b[39;00m),\n\u001b[0;32m   1886\u001b[0m     is_text\u001b[38;5;241m=\u001b[39mis_text,\n\u001b[0;32m   1887\u001b[0m     errors\u001b[38;5;241m=\u001b[39m\u001b[38;5;28mself\u001b[39m\u001b[38;5;241m.\u001b[39moptions\u001b[38;5;241m.\u001b[39mget(\u001b[38;5;124m\"\u001b[39m\u001b[38;5;124mencoding_errors\u001b[39m\u001b[38;5;124m\"\u001b[39m, \u001b[38;5;124m\"\u001b[39m\u001b[38;5;124mstrict\u001b[39m\u001b[38;5;124m\"\u001b[39m),\n\u001b[0;32m   1888\u001b[0m     storage_options\u001b[38;5;241m=\u001b[39m\u001b[38;5;28mself\u001b[39m\u001b[38;5;241m.\u001b[39moptions\u001b[38;5;241m.\u001b[39mget(\u001b[38;5;124m\"\u001b[39m\u001b[38;5;124mstorage_options\u001b[39m\u001b[38;5;124m\"\u001b[39m, \u001b[38;5;28;01mNone\u001b[39;00m),\n\u001b[0;32m   1889\u001b[0m )\n\u001b[0;32m   1890\u001b[0m \u001b[38;5;28;01massert\u001b[39;00m \u001b[38;5;28mself\u001b[39m\u001b[38;5;241m.\u001b[39mhandles \u001b[38;5;129;01mis\u001b[39;00m \u001b[38;5;129;01mnot\u001b[39;00m \u001b[38;5;28;01mNone\u001b[39;00m\n\u001b[0;32m   1891\u001b[0m f \u001b[38;5;241m=\u001b[39m \u001b[38;5;28mself\u001b[39m\u001b[38;5;241m.\u001b[39mhandles\u001b[38;5;241m.\u001b[39mhandle\n",
      "File \u001b[1;32m~\\anaconda3\\Lib\\site-packages\\pandas\\io\\common.py:873\u001b[0m, in \u001b[0;36mget_handle\u001b[1;34m(path_or_buf, mode, encoding, compression, memory_map, is_text, errors, storage_options)\u001b[0m\n\u001b[0;32m    868\u001b[0m \u001b[38;5;28;01melif\u001b[39;00m \u001b[38;5;28misinstance\u001b[39m(handle, \u001b[38;5;28mstr\u001b[39m):\n\u001b[0;32m    869\u001b[0m     \u001b[38;5;66;03m# Check whether the filename is to be opened in binary mode.\u001b[39;00m\n\u001b[0;32m    870\u001b[0m     \u001b[38;5;66;03m# Binary mode does not support 'encoding' and 'newline'.\u001b[39;00m\n\u001b[0;32m    871\u001b[0m     \u001b[38;5;28;01mif\u001b[39;00m ioargs\u001b[38;5;241m.\u001b[39mencoding \u001b[38;5;129;01mand\u001b[39;00m \u001b[38;5;124m\"\u001b[39m\u001b[38;5;124mb\u001b[39m\u001b[38;5;124m\"\u001b[39m \u001b[38;5;129;01mnot\u001b[39;00m \u001b[38;5;129;01min\u001b[39;00m ioargs\u001b[38;5;241m.\u001b[39mmode:\n\u001b[0;32m    872\u001b[0m         \u001b[38;5;66;03m# Encoding\u001b[39;00m\n\u001b[1;32m--> 873\u001b[0m         handle \u001b[38;5;241m=\u001b[39m \u001b[38;5;28mopen\u001b[39m(\n\u001b[0;32m    874\u001b[0m             handle,\n\u001b[0;32m    875\u001b[0m             ioargs\u001b[38;5;241m.\u001b[39mmode,\n\u001b[0;32m    876\u001b[0m             encoding\u001b[38;5;241m=\u001b[39mioargs\u001b[38;5;241m.\u001b[39mencoding,\n\u001b[0;32m    877\u001b[0m             errors\u001b[38;5;241m=\u001b[39merrors,\n\u001b[0;32m    878\u001b[0m             newline\u001b[38;5;241m=\u001b[39m\u001b[38;5;124m\"\u001b[39m\u001b[38;5;124m\"\u001b[39m,\n\u001b[0;32m    879\u001b[0m         )\n\u001b[0;32m    880\u001b[0m     \u001b[38;5;28;01melse\u001b[39;00m:\n\u001b[0;32m    881\u001b[0m         \u001b[38;5;66;03m# Binary mode\u001b[39;00m\n\u001b[0;32m    882\u001b[0m         handle \u001b[38;5;241m=\u001b[39m \u001b[38;5;28mopen\u001b[39m(handle, ioargs\u001b[38;5;241m.\u001b[39mmode)\n",
      "\u001b[1;31mFileNotFoundError\u001b[0m: [Errno 2] No such file or directory: 'Salary_Data.csv'"
     ]
    }
   ],
   "source": [
    "# read the dataset \n",
    "df = pd.read_csv(\"Salary_Data.csv\")\n",
    "df.head()"
   ]
  },
  {
   "cell_type": "markdown",
   "id": "efbdb090",
   "metadata": {},
   "source": [
    "**Objective**\n",
    "\n",
    "- Based on years of experience , estimate the salary of an employee"
   ]
  },
  {
   "cell_type": "code",
   "execution_count": null,
   "id": "3a5addbf",
   "metadata": {},
   "outputs": [],
   "source": [
    "df.shape"
   ]
  },
  {
   "cell_type": "code",
   "execution_count": null,
   "id": "8f46949d",
   "metadata": {},
   "outputs": [],
   "source": [
    "df.columns"
   ]
  },
  {
   "cell_type": "code",
   "execution_count": null,
   "id": "3bb4b3dd",
   "metadata": {},
   "outputs": [],
   "source": [
    "df.isnull().sum()"
   ]
  },
  {
   "cell_type": "code",
   "execution_count": null,
   "id": "f7864501",
   "metadata": {},
   "outputs": [],
   "source": [
    "df.dtypes"
   ]
  },
  {
   "cell_type": "code",
   "execution_count": null,
   "id": "46c0714e",
   "metadata": {},
   "outputs": [],
   "source": [
    "df['YearsExperience'].unique()"
   ]
  },
  {
   "cell_type": "code",
   "execution_count": null,
   "id": "191e4e47",
   "metadata": {},
   "outputs": [],
   "source": [
    "#check any correlation and covariance\n",
    "\n",
    "df[['YearsExperience','Salary']].cov()"
   ]
  },
  {
   "cell_type": "code",
   "execution_count": null,
   "id": "93803697",
   "metadata": {},
   "outputs": [],
   "source": [
    "df.corr()"
   ]
  },
  {
   "cell_type": "code",
   "execution_count": null,
   "id": "3335a748",
   "metadata": {},
   "outputs": [],
   "source": [
    "sns.heatmap(df.corr(),annot=True)\n",
    "plt.show()"
   ]
  },
  {
   "cell_type": "code",
   "execution_count": null,
   "id": "39eec523",
   "metadata": {},
   "outputs": [],
   "source": [
    "df.columns"
   ]
  },
  {
   "cell_type": "code",
   "execution_count": null,
   "id": "49f54f75",
   "metadata": {},
   "outputs": [],
   "source": [
    "plt.scatter(df['YearsExperience'],df['Salary'])"
   ]
  },
  {
   "cell_type": "markdown",
   "id": "9255a11f",
   "metadata": {},
   "source": [
    "- We divide data into two parts i.e input data and output data\n",
    "\n",
    "- input data = X; output data=y\n",
    "\n",
    "- Again we divide input data into two parts i.e train and test\n",
    "\n",
    "- input train data= x_train; input test data= x_test\n",
    "\n",
    "- similarly we divide output data into two parts i.e train and test\n",
    "\n",
    "- output train data= y_train; output test data= y_test\n",
    "\n",
    "- Model development happens on train data i.e x_train and y_train\n",
    "\n",
    "- Model will predict by passing x_test data, these are called y_predictions\n",
    "\n",
    "- y_predictions will compare with y_test , this is called test accuracy/ test error"
   ]
  },
  {
   "cell_type": "code",
   "execution_count": null,
   "id": "8a9a9712",
   "metadata": {},
   "outputs": [],
   "source": [
    "#x_train   y_train\n",
    "#1           1\n",
    "#2           4\n",
    "#3           9\n",
    "#4           16\n",
    "\n",
    "#x_test    y_test\n",
    "#5         25\n",
    "\n",
    "#develope a model (1,1) (2,4) (3,9) (4,16)\n",
    "#model will predict by passing 5 , y_predictions  we need to compare with y_test "
   ]
  },
  {
   "cell_type": "markdown",
   "id": "30df3412",
   "metadata": {},
   "source": [
    "$Step-3$\n",
    "\n",
    "**divide data into input and output data**"
   ]
  },
  {
   "cell_type": "code",
   "execution_count": null,
   "id": "c7d6f78c",
   "metadata": {},
   "outputs": [],
   "source": [
    "df.columns"
   ]
  },
  {
   "cell_type": "code",
   "execution_count": null,
   "id": "f042b370",
   "metadata": {},
   "outputs": [],
   "source": [
    "X=df['YearsExperience']\n",
    "y=df['Salary']"
   ]
  },
  {
   "cell_type": "markdown",
   "id": "ea5ef59a",
   "metadata": {},
   "source": [
    "$Step-4$\n",
    "\n",
    "**Divide data into train and test**"
   ]
  },
  {
   "cell_type": "code",
   "execution_count": null,
   "id": "69337bdc",
   "metadata": {},
   "outputs": [],
   "source": [
    "from sklearn.model_selection import train_test_split\n",
    "X_train, X_test, y_train, y_test=train_test_split(X,  # Input data\n",
    "                                                  y,  # output data\n",
    "                                                  random_state=42, # it select random samples\n",
    "                                                  test_size=0.30)\n",
    "\n",
    "# test size= 0.30 means 30% samples are test sample and 70% samples are train samples\n",
    "# test samples=9\n",
    "# train samples =21"
   ]
  },
  {
   "cell_type": "code",
   "execution_count": null,
   "id": "4a5fe7bc",
   "metadata": {},
   "outputs": [],
   "source": [
    "X_train.shape, X_test.shape"
   ]
  },
  {
   "cell_type": "code",
   "execution_count": null,
   "id": "3e69713c",
   "metadata": {},
   "outputs": [],
   "source": [
    "y_train.shape, y_test.shape"
   ]
  },
  {
   "cell_type": "code",
   "execution_count": null,
   "id": "13fcf0f5",
   "metadata": {},
   "outputs": [],
   "source": [
    "X_train"
   ]
  },
  {
   "cell_type": "code",
   "execution_count": null,
   "id": "d0dbb935",
   "metadata": {},
   "outputs": [],
   "source": [
    "df.shape\n",
    "30*0.30"
   ]
  },
  {
   "cell_type": "markdown",
   "id": "586d677d",
   "metadata": {},
   "source": [
    "$Step-5$\n",
    "\n",
    "**Model development**"
   ]
  },
  {
   "cell_type": "code",
   "execution_count": null,
   "id": "ee23b4a5",
   "metadata": {},
   "outputs": [],
   "source": [
    "# Model development happens using train data\n",
    "# X_train    y_train\n",
    "#from sklearn.linear_model import LinearRegression\n",
    "#LR=LinearRegression()\n"
   ]
  },
  {
   "cell_type": "code",
   "execution_count": null,
   "id": "8c357cbc",
   "metadata": {},
   "outputs": [],
   "source": [
    "X_train.shape\n",
    "\n",
    "(21,2)"
   ]
  },
  {
   "cell_type": "code",
   "execution_count": null,
   "id": "97cca0ee",
   "metadata": {},
   "outputs": [],
   "source": [
    "df.shape   # 30 rows   2 columns"
   ]
  },
  {
   "cell_type": "code",
   "execution_count": null,
   "id": "3fdd9866",
   "metadata": {},
   "outputs": [],
   "source": [
    "df.ndim # number of dimensions"
   ]
  },
  {
   "cell_type": "code",
   "execution_count": null,
   "id": "adfd00ca",
   "metadata": {},
   "outputs": [],
   "source": [
    "X_train.ndim\n",
    "# 1 dimension means 1 column only\n",
    "# 2 dimension means 2 column only\n",
    "# when you have only 1 coulmn, the shape will not show the coulumn\n",
    "# (21,) it is only one column data having 21 observations\n",
    "# (9,) it is one column data having 9 observation\n",
    "# (30,2) it is 2 column data having 30 observation\n",
    "# Reshape the data if you have only one column"
   ]
  },
  {
   "cell_type": "code",
   "execution_count": null,
   "id": "b2a8f51c",
   "metadata": {},
   "outputs": [],
   "source": [
    "from sklearn.linear_model import LinearRegression\n",
    "LR=LinearRegression()\n",
    "LR.fit(X_train.array.reshape(-1, 1),\n",
    "       y_train)"
   ]
  },
  {
   "cell_type": "markdown",
   "id": "36cff938",
   "metadata": {},
   "source": [
    "$Step-6$\n",
    "\n",
    "**Model predictions**"
   ]
  },
  {
   "cell_type": "code",
   "execution_count": null,
   "id": "279d5ded",
   "metadata": {},
   "outputs": [],
   "source": [
    "# Model predictions happens X_test\n",
    "y_predictions=LR.predict(X_test.array.reshape(-1, 1))"
   ]
  },
  {
   "cell_type": "code",
   "execution_count": null,
   "id": "1cc2223d",
   "metadata": {},
   "outputs": [],
   "source": [
    "y_predictions"
   ]
  },
  {
   "cell_type": "code",
   "execution_count": null,
   "id": "ae6cc004",
   "metadata": {},
   "outputs": [],
   "source": [
    "y_test.values"
   ]
  },
  {
   "cell_type": "markdown",
   "id": "617e8d60",
   "metadata": {},
   "source": [
    "$Step-7$\n",
    "\n",
    "**Model evaluation**"
   ]
  },
  {
   "cell_type": "code",
   "execution_count": null,
   "id": "47edef34",
   "metadata": {},
   "outputs": [],
   "source": [
    "# RMSE\n",
    "# MSE\n",
    "# MAE\n",
    "# R-square\n",
    "\n",
    "from sklearn.metrics import r2_score,mean_squared_error"
   ]
  },
  {
   "cell_type": "code",
   "execution_count": null,
   "id": "c837e5a8",
   "metadata": {},
   "outputs": [],
   "source": [
    "R2=r2_score(y_test,y_predictions)\n",
    "MSE=mean_squared_error(y_test,y_predictions)\n",
    "RMSE=np.sqrt(MSE)\n",
    "#accuracy_score(y_test,y_predictions) # it is a regression tech\n",
    "print(\"R-sqaure:\",R2)\n",
    "print(\"MSE:\",MSE)\n",
    "print(\"RMSE:\",RMSE)"
   ]
  },
  {
   "cell_type": "code",
   "execution_count": null,
   "id": "c11a462f",
   "metadata": {},
   "outputs": [],
   "source": [
    "# Suppose your original salary is 50k\n",
    "# Our model will expecting either 44k  or  56k "
   ]
  },
  {
   "cell_type": "markdown",
   "id": "5ba3a92b",
   "metadata": {},
   "source": [
    "$Step-8$\n",
    "\n",
    "**Finding coeffiecnt and Intercept**"
   ]
  },
  {
   "cell_type": "markdown",
   "id": "07202565",
   "metadata": {},
   "source": [
    "- Coefficient means b0 ,b1 ,b2....\n",
    "\n",
    "- Coeffiecints depends on number of input features\n",
    "\n",
    "- In this data we have only one column as input i.e. Years of Experience\n",
    "\n",
    "- So we will get only one coeffiecnt"
   ]
  },
  {
   "cell_type": "code",
   "execution_count": null,
   "id": "5cff308b",
   "metadata": {},
   "outputs": [],
   "source": [
    "LR.coef_\n",
    "print(\"The coeffiecnt of Years_of_experience is:\",LR.coef_)"
   ]
  },
  {
   "cell_type": "code",
   "execution_count": null,
   "id": "e9ca3ac4",
   "metadata": {},
   "outputs": [],
   "source": [
    "LR.intercept_"
   ]
  },
  {
   "cell_type": "code",
   "execution_count": null,
   "id": "aa3cc291",
   "metadata": {},
   "outputs": [],
   "source": [
    "df.columns[0]"
   ]
  },
  {
   "cell_type": "code",
   "execution_count": null,
   "id": "e1c9a5e0",
   "metadata": {},
   "outputs": [],
   "source": [
    "#Regression_equation=LR.intercept_+LR.coef_*'YearsExperience'\n",
    "#Regression_equation"
   ]
  },
  {
   "cell_type": "markdown",
   "id": "17a00103",
   "metadata": {},
   "source": [
    "$Step-9$\n",
    "\n",
    "**Plot the regression line**\n",
    "\n",
    "- In order to plot regression line\n",
    "\n",
    "- We need to undertsand the two plots\n",
    "\n",
    "- Orginal data plot i.e input data(X) vs output data(y)\n",
    "\n",
    "- Regression plot i.e input data (X) vs predictions of regression model by passing input data (X)"
   ]
  },
  {
   "cell_type": "code",
   "execution_count": null,
   "id": "e6db8430",
   "metadata": {},
   "outputs": [],
   "source": [
    "# Draw the regression line on original data vs predictions on original data\n",
    "\n",
    "original_y_predictions=LR.predict(X.array.reshape(-1,1))\n",
    "plt.scatter(X,y,label='original data')  # Original plot\n",
    "plt.plot(X,original_y_predictions,color='red') # Regression plot"
   ]
  },
  {
   "cell_type": "markdown",
   "id": "7b921c10",
   "metadata": {},
   "source": [
    "$Step-10$:\n",
    "    \n",
    "**Save the model**"
   ]
  },
  {
   "cell_type": "code",
   "execution_count": null,
   "id": "845964d7",
   "metadata": {},
   "outputs": [],
   "source": [
    "import pickle\n",
    "pickle.dump(LR,\n",
    "            open('linear_salary_model.pkl','wb'))\n",
    "\n",
    "#Model name=LR\n",
    "#In which name the model is saving: linear_slaary_model\n",
    "# extenstion: Pickle\n",
    "# wb: write in bytes"
   ]
  },
  {
   "cell_type": "markdown",
   "id": "f09cf97f",
   "metadata": {},
   "source": [
    "$Step-11$:\n",
    "\n",
    "**Load the model**"
   ]
  },
  {
   "cell_type": "code",
   "execution_count": null,
   "id": "228ae2bb",
   "metadata": {},
   "outputs": [],
   "source": [
    "# Loading model to compare the results\n",
    "model = pickle.load(open('linear_salary_model.pkl','rb'))\n",
    "model"
   ]
  },
  {
   "cell_type": "markdown",
   "id": "36e3d2bc",
   "metadata": {},
   "source": [
    "$Step-13$:\n",
    "    \n",
    "**Predictions**"
   ]
  },
  {
   "cell_type": "code",
   "execution_count": null,
   "id": "5d2fdb48",
   "metadata": {},
   "outputs": [],
   "source": [
    "X.array.reshape(-1,1)"
   ]
  },
  {
   "cell_type": "code",
   "execution_count": null,
   "id": "da79de35",
   "metadata": {},
   "outputs": [],
   "source": [
    "model.predict([[3],\n",
    "               [3.5],\n",
    "               [4]])"
   ]
  },
  {
   "cell_type": "code",
   "execution_count": null,
   "id": "34133b62",
   "metadata": {},
   "outputs": [],
   "source": [
    "test_sample=[[1.1],[1.5],[2.5],[3.5]]\n",
    "model.predict(test_sample)"
   ]
  },
  {
   "cell_type": "code",
   "execution_count": null,
   "id": "1a94380e-2923-42f1-ae68-fab635213abb",
   "metadata": {},
   "outputs": [],
   "source": []
  }
 ],
 "metadata": {
  "kernelspec": {
   "display_name": "Python 3 (ipykernel)",
   "language": "python",
   "name": "python3"
  },
  "language_info": {
   "codemirror_mode": {
    "name": "ipython",
    "version": 3
   },
   "file_extension": ".py",
   "mimetype": "text/x-python",
   "name": "python",
   "nbconvert_exporter": "python",
   "pygments_lexer": "ipython3",
   "version": "3.12.4"
  }
 },
 "nbformat": 4,
 "nbformat_minor": 5
}
